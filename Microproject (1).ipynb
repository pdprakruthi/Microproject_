{
 "cells": [
  {
   "cell_type": "markdown",
   "id": "3114e336-baa4-45b1-bd3e-dad1f15f3aad",
   "metadata": {},
   "source": [
    "<!DOCTYPE html>\n",
    "<html>\n",
    "<body>\n",
    " <h1>Image Segmentation by Clustering</h1>\n",
    " </body>\n",
    " </html>"
   ]
  },
  {
   "cell_type": "code",
   "execution_count": null,
   "id": "4a1e4cc7-f3a5-4857-b5d2-da46f73fae3b",
   "metadata": {},
   "outputs": [],
   "source": [
    "# Import necessary libraries\n",
    "import numpy as np\n",
    "import pandas as pd\n",
    "import matplotlib.pyplot as plt\n",
    "import seaborn as sns\n",
    "from sklearn.datasets import load_iris\n",
    "from sklearn.cluster import KMeans\n",
    "from sklearn.metrics import silhouette_score\n",
    "from sklearn.preprocessing import StandardScaler\n",
    "import warnings\n",
    "\n",
    "# Suppress warnings\n",
    "warnings.filterwarnings(\"ignore\", category=DeprecationWarning)\n",
    "warnings.filterwarnings(\"ignore\", category=UserWarning)\n",
    "\n",
    "# Load the Iris dataset\n",
    "iris = load_iris()\n",
    "X = iris.data\n",
    "y = iris.target\n",
    "features = iris.feature_names\n",
    "\n",
    "# Convert the dataset to a pandas DataFrame for easier manipulation\n",
    "df = pd.DataFrame(X, columns=features)\n",
    "df['species'] = y  # Adding the target species column to check against clusters\n",
    "\n",
    "# ===========================\n",
    "# Exploratory Data Analysis (EDA)\n",
    "# ===========================\n",
    "\n",
    "# 1. Summary statistics of the features\n",
    "print(df.describe())\n",
    "\n",
    "# 2. Pairplot to visualize the distribution of features\n",
    "sns.pairplot(df, hue='species', palette='Set1')\n",
    "plt.suptitle(\"Pairplot of Iris Dataset\", y=1.02)\n",
    "plt.show()\n",
    "\n",
    "# 3. Correlation matrix to see the relationship between features\n",
    "corr = df[features].corr()\n",
    "plt.figure(figsize=(8, 6))\n",
    "sns.heatmap(corr, annot=True, cmap='coolwarm', fmt=\".2f\")\n",
    "plt.title(\"Correlation Matrix of Features\")\n",
    "plt.show()\n",
    "\n",
    "# ============================\n",
    "# Standardizing the Data\n",
    "# ============================\n",
    "\n",
    "# Standardizing the features to ensure all features are on the same scale\n",
    "scaler = StandardScaler()\n",
    "X_scaled = scaler.fit_transform(X)\n",
    "\n",
    "# ============================\n",
    "# Finding the Optimal k\n",
    "#\n"
   ]
  },
  {
   "cell_type": "code",
   "execution_count": null,
   "id": "43b699ef-c999-4369-b914-41ba4645ae74",
   "metadata": {},
   "outputs": [],
   "source": []
  }
 ],
 "metadata": {
  "kernelspec": {
   "display_name": "Python 3 (ipykernel)",
   "language": "python",
   "name": "python3"
  },
  "language_info": {
   "codemirror_mode": {
    "name": "ipython",
    "version": 3
   },
   "file_extension": ".py",
   "mimetype": "text/x-python",
   "name": "python",
   "nbconvert_exporter": "python",
   "pygments_lexer": "ipython3",
   "version": "3.12.4"
  }
 },
 "nbformat": 4,
 "nbformat_minor": 5
}
